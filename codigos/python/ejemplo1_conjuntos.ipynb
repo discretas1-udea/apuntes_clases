{
 "cells": [
  {
   "cell_type": "markdown",
   "id": "edc42158",
   "metadata": {},
   "source": [
    "# Teoria de conjuntos usando python"
   ]
  },
  {
   "cell_type": "markdown",
   "id": "abe8b9e8",
   "metadata": {},
   "source": [
    "## 1. Conceptos preliminares en python"
   ]
  },
  {
   "cell_type": "markdown",
   "id": "3d5561bc",
   "metadata": {},
   "source": [
    "### 1.1. Tipos de datos estructurados\n",
    "\n",
    "La siguiente tabla resume algunos de los principales tipos de datos estructurados en python:\n",
    "\n",
    "| Tipo de Dato | Categoría      | Descripción Breve                                     | Mutable? | Ordenado?                                       | Elementos Típicos                | Ejemplo de Sintaxis     |\n",
    "| :----------- | :------------- | :---------------------------------------------------- | :------- | :---------------------------------------------- | :------------------------------- | :---------------------- |\n",
    "| `str`        | Secuencia      | Secuencia de caracteres Unicode                       | No       | Sí (indexado)                                   | Caracteres                       | `\"hola\"`, `'abc'`       |\n",
    "| `list`       | Secuencia      | Colección ordenada de ítems                           | Sí       | Sí (indexado)                                   | Ítems de cualquier tipo, duplicados | `[1, \"a\", 2.0]`       |\n",
    "| `tuple`      | Secuencia      | Colección ordenada de ítems                           | No       | Sí (indexado)                                   | Ítems de cualquier tipo, duplicados | `(1, \"a\", 2.0)`       |\n",
    "| `range`      | Secuencia      | Secuencia inmutable de números                        | No       | Sí (representa una progresión)                  | Números enteros                  | `range(5)`              |\n",
    "| `set`        | Conjuntos      | Colección de ítems únicos e inmutables                | Sí       | No (sin índice, orden de inserción en Py 3.7+)  | Ítems únicos e inmutables        | `{1, \"a\", 3.0}` `set()` |\n",
    "| `frozenset`  | Conjuntos      | Colección inmutable de ítems únicos e inmutables      | No       | No (sin índice, orden de inserción en Py 3.7+)  | Ítems únicos e inmutables        | `frozenset([1,\"a\"])`  |\n",
    "| `dict`       | Mapeo          | Colección de pares clave-valor                        | Sí       | Sí (por clave, orden de inserción en Py 3.7+)   | Pares `clave: valor`             | `{\"k\": 1, \"m\": \"v\"}`  |\n",
    "\n",
    "La siguiente tabla permite establecer una comparación rapida entre algunos de los tipos de datos que permiten agrupar elementos:\n",
    "\n",
    "| Característica               | `set`                          | `str`                        | `list`                         | `tuple`                        |\n",
    "|-----------------------------|--------------------------------|------------------------------|-------------------------------|-------------------------------|\n",
    "| Tipo de colección           | Conjunto                       | Secuencia de caracteres      | Lista ordenada                | Lista ordenada e inmutable   |\n",
    "| Sintaxis literal            | `{1, 2, 3}`                    | `'abc'` o `\"abc\"`            | `[1, 2, 3]`                    | `(1, 2, 3)`                   |\n",
    "| Mutabilidad                 | Mutable                        | Inmutable                    | Mutable                       | Inmutable                     |\n",
    "| Orden                       | No mantiene orden              | Ordenada                     | Ordenada                      | Ordenada                      |\n",
    "| Duplicados permitidos       | No                             | Sí                           | Sí                            | Sí                            |\n",
    "| Tipos de elementos          | Hashables                      | Caracteres                   | Cualquier tipo                | Cualquier tipo                |\n",
    "| Iteración                   | Sí                             | Sí                           | Sí                            | Sí                            |\n",
    "| Indexación                  | No                             | Sí                           | Sí                            | Sí                            |\n",
    "| Slicing                     | No                             | Sí                           | Sí                            | Sí                            |\n",
    "| Métodos de modificación     | `.add()`, `.remove()`          | No aplica                    | `.append()`, `.pop()`, etc.   | No aplica                     |\n",
    "| Uso común                   | Operaciones de conjuntos       | Texto y procesamiento de cadenas | Arreglos modificables      | Arreglos constantes           |\n",
    "| Conversión desde iterable   | `set(iterable)`                | `str(iterable)`              | `list(iterable)`              | `tuple(iterable)`            |"
   ]
  },
  {
   "cell_type": "markdown",
   "id": "517c0db1",
   "metadata": {},
   "source": [
    "### 1.2. Conjuntos\n",
    "\n",
    "El dato tipo `set` es definido en python para la implementación de los conjuntos y sus respectivas operaciones. La siguiente tabla resume las principales caracterisicas de estos:\n",
    "\n",
    "| Aspecto                         | Descripción                                                                 |\n",
    "|---------------------------------|-----------------------------------------------------------------------------|\n",
    "| Tipo de dato                    | `set`                                                                      |\n",
    "| Naturaleza                      | Colección desordenada de elementos únicos (sin duplicados)                |\n",
    "| Sintaxis literal                | `A = {1, 2, 3}`                                                            |\n",
    "| Constructor explícito           | `set([1, 2, 3])` o `set('abc')`                                           |\n",
    "| Tipo mutable                    | Sí (los elementos se pueden agregar o quitar, pero no modificar in place) |\n",
    "| Elementos permitidos            | Deben ser **hashables** (e.g., enteros, strings, tuplas inmutables)       |\n",
    "| Duplicados                      | Automáticamente eliminados                                                |\n",
    "| Orden                           | No garantizado (sin orden definido)                                       |\n",
    "| Verificación de pertenencia     | `x in A`                                                                  |\n",
    "| Agregar elementos               | `A.add(x)`                                                                |\n",
    "| Eliminar elementos              | `A.remove(x)` (lanza error si no existe), `A.discard(x)` (no lanza error)|\n",
    "| Vaciar el conjunto              | `A.clear()`                                                               |\n",
    "| Tamaño del conjunto             | `len(A)`                                                                  |\n",
    "| Iteración                       | `for x in A:`                                                             |\n",
    "| Conversión a lista              | `list(A)`                                                                 |\n",
    "| Conversión desde lista          | `set(lista)`                                                              |\n",
    "| Copia                           | `A.copy()`                                                                |\n",
    "| Inmutabilidad (`frozenset`)     | `frozenset([1, 2, 3])` (conjunto inmutable, útil como clave de diccionario)|\n"
   ]
  },
  {
   "cell_type": "markdown",
   "id": "2d3dea29",
   "metadata": {},
   "source": [
    "## 2. Conjuntos y operaciones\n",
    "\n",
    "Teniendo en cuenta que el dato `set` representa un conjunto, la siguiente tabla muestra los direntes operadores en python:"
   ]
  },
  {
   "cell_type": "markdown",
   "id": "71090a8c",
   "metadata": {},
   "source": [
    "| Operación                | Símbolo matemático | Python                         | Descripción                                                  |\n",
    "|--------------------------|--------------------|--------------------------------|--------------------------------------------------------------|\n",
    "| Unión                    | A ∪ B              | `A \\| B`                        | Elementos que están en A o en B o en ambos                   |\n",
    "| Intersección             | A ∩ B              | `A & B`                        | Elementos que están en A y también en B                      |\n",
    "| Diferencia               | A \\ B              | `A - B`                        | Elementos que están en A pero no en B                        |\n",
    "| Diferencia simétrica     | A △ B              | `A ^ B`                        | Elementos que están en A o en B pero no en ambos             |\n",
    "| Subconjunto              | A ⊆ B              | `A <= B`                       | `True` si todos los elementos de A están en B                |\n",
    "| Subconjunto propio       | A ⊂ B              | `A < B`                        | `True` si A ⊆ B y A ≠ B                                      |\n",
    "| Superconjunto            | A ⊇ B              | `A >= B`                       | `True` si todos los elementos de B están en A                |\n",
    "| Superconjunto propio     | A ⊃ B              | `A > B`                        | `True` si A ⊇ B y A ≠ B                                      |\n",
    "| Igualdad                 | A = B              | `A == B`                       | `True` si A y B tienen los mismos elementos                  |\n",
    "| Disjuntos                | A ∩ B = ∅          | `A.isdisjoint(B)`             | `True` si A y B no tienen elementos en común                 |\n",
    "| Complemento (relativo a U)| Aᶜ                 | `U - A`                        | Elementos del universo `U` que no están en `A`               |\n"
   ]
  },
  {
   "cell_type": "markdown",
   "id": "a465f509",
   "metadata": {},
   "source": [
    "# 3. Contextualización"
   ]
  },
  {
   "cell_type": "markdown",
   "id": "871c54cd",
   "metadata": {},
   "source": [
    "Los siguientes ejemplos permiten contextualizar la relación de lo que se ha visto en la teoria con su representación en un lenguaje de programación como python. Note que en ambos casos lo que hacemos es hablar en un idioma segun el contexto, es decir **Representamos** o **Modelamos**."
   ]
  },
  {
   "cell_type": "markdown",
   "id": "f4905522",
   "metadata": {
    "vscode": {
     "languageId": "plaintext"
    }
   },
   "source": [
    "### Ejemplo 1\n",
    "\n",
    "Sea A el conjunto de todas las letras que conforman la palabra calculo 'calculo' y B el conjunto asociado de letras que aparecen en 'matemáticas discretas'. Determine:\n",
    "1. La representación de cada conjunto.\n",
    "2. El conjunto universal.\n",
    "3. Las letras que aparecen en cualquiera de los dos conjuntos.\n",
    "4. Las letras que aparecen en ambos conjuntos.\n",
    "5. Las que solo aparecen en el conjunto A pero que no están en el conjunto B.\n",
    "6. Las que solo aparecen en el conjunto B pero que no están en el conjunto A.\n",
    "7. Las letras que no se encuentran en A.\n",
    "8. Las letras que no se encuentran en B.\n",
    "9. Las letras que están solo en A o en B.\n"
   ]
  },
  {
   "cell_type": "code",
   "execution_count": 2,
   "id": "6ce628c9",
   "metadata": {},
   "outputs": [
    {
     "name": "stdout",
     "output_type": "stream",
     "text": [
      "A: {'o', 'u', 'l', 'a', 'c'}\n",
      "B: {'s', 'd', 'a', 'm', 'e', 't', 'i', 'r', 'c'}\n"
     ]
    }
   ],
   "source": [
    "# 1. Representacion de cada conjunto\n",
    "A = set(\"calculo\")\n",
    "B = set(\"matematicasdiscretas\")\n",
    "print(\"A:\", A)\n",
    "print(\"B:\", B)"
   ]
  },
  {
   "cell_type": "code",
   "execution_count": null,
   "id": "920624d0",
   "metadata": {},
   "outputs": [
    {
     "name": "stdout",
     "output_type": "stream",
     "text": [
      "U: {'s', 'a', 'v', 'w', 'r', 'z', 'd', 'y', 'g', 'h', 'b', 'o', 'u', 'j', 'q', 'l', 't', 'f', 'p', 'k', 'x', 'm', 'e', 'i', 'n', 'c'}\n"
     ]
    }
   ],
   "source": [
    "# 2. El conjunto universal\n",
    "U = set(\"abcdefghijklmnopqrstuvwxyz\")\n",
    "print(\"U:\", U)"
   ]
  },
  {
   "cell_type": "code",
   "execution_count": null,
   "id": "f128f2ec",
   "metadata": {},
   "outputs": [
    {
     "name": "stdout",
     "output_type": "stream",
     "text": [
      "C: {'o', 'u', 's', 'd', 'l', 'a', 'm', 'e', 't', 'i', 'r', 'c'}\n"
     ]
    }
   ],
   "source": [
    "# 3. Las letras que aparecen en cualquiera de los dos conjuntos.\n",
    "C = A|B             # C = A.union(B)\n",
    "print(\"C:\", C)"
   ]
  },
  {
   "cell_type": "code",
   "execution_count": 6,
   "id": "609e4e97",
   "metadata": {},
   "outputs": [
    {
     "name": "stdout",
     "output_type": "stream",
     "text": [
      "D: {'a', 'c'}\n"
     ]
    }
   ],
   "source": [
    "# 4. Las letras que aparecen en ambos conjuntos.\n",
    "D = A&B             # D = A.intersection(B)\n",
    "print(\"D:\", D)"
   ]
  },
  {
   "cell_type": "code",
   "execution_count": 7,
   "id": "7e7a1a3a",
   "metadata": {},
   "outputs": [
    {
     "name": "stdout",
     "output_type": "stream",
     "text": [
      "E: {'o', 'l', 'u'}\n"
     ]
    }
   ],
   "source": [
    "# 5. Las letras que aparecen en A pero no en B.\n",
    "E = A-B             # E = A.difference(B)\n",
    "print(\"E:\", E)"
   ]
  },
  {
   "cell_type": "code",
   "execution_count": 8,
   "id": "3758e6a3",
   "metadata": {},
   "outputs": [
    {
     "name": "stdout",
     "output_type": "stream",
     "text": [
      "F: {'s', 'd', 'm', 'e', 't', 'i', 'r'}\n"
     ]
    }
   ],
   "source": [
    "# 6. Las letras que aparecen en B pero no en A.\n",
    "F = B-A             # F = B.difference(A)\n",
    "print(\"F:\", F)"
   ]
  },
  {
   "cell_type": "code",
   "execution_count": 12,
   "id": "2aca4616",
   "metadata": {},
   "outputs": [
    {
     "name": "stdout",
     "output_type": "stream",
     "text": [
      "G: {'b', 's', 'j', 'q', 'v', 'w', 't', 'f', 'r', 'p', 'k', 'z', 'd', 'y', 'g', 'x', 'm', 'e', 'h', 'i', 'n'}\n"
     ]
    }
   ],
   "source": [
    "# 7. Las letras que no se encuentran en A\n",
    "G = U-A             # G = U.difference(A)\n",
    "print(\"G:\", G)"
   ]
  },
  {
   "cell_type": "code",
   "execution_count": 13,
   "id": "41739ac3",
   "metadata": {},
   "outputs": [
    {
     "name": "stdout",
     "output_type": "stream",
     "text": [
      "H: {'b', 'o', 'u', 'j', 'z', 'q', 'k', 'l', 'y', 'g', 'x', 'v', 'w', 'h', 'f', 'n', 'p'}\n"
     ]
    }
   ],
   "source": [
    "# 8. Las letras que no se encuentran en B\n",
    "H = U-B             # H = U.difference(B)   \n",
    "print(\"H:\", H)"
   ]
  },
  {
   "cell_type": "code",
   "execution_count": 14,
   "id": "6f2195e0",
   "metadata": {},
   "outputs": [
    {
     "name": "stdout",
     "output_type": "stream",
     "text": [
      "G: {'o', 'u', 's', 'd', 'l', 'm', 'e', 't', 'i', 'r'}\n"
     ]
    }
   ],
   "source": [
    "# 7. Las letras que aparecen en A o en B pero no en ambos.\n",
    "I = A^B             # G = A.symmetric_difference(B)\n",
    "print(\"G:\", I)"
   ]
  }
 ],
 "metadata": {
  "kernelspec": {
   "display_name": "base",
   "language": "python",
   "name": "python3"
  },
  "language_info": {
   "codemirror_mode": {
    "name": "ipython",
    "version": 3
   },
   "file_extension": ".py",
   "mimetype": "text/x-python",
   "name": "python",
   "nbconvert_exporter": "python",
   "pygments_lexer": "ipython3",
   "version": "3.12.7"
  }
 },
 "nbformat": 4,
 "nbformat_minor": 5
}
